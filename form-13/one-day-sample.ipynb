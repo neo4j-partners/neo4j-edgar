{
 "cells": [
  {
   "cell_type": "markdown",
   "id": "8b7a1dc1-0cae-42a7-b059-9efe53e7a44f",
   "metadata": {},
   "source": [
    "# Create One Day Sample"
   ]
  },
  {
   "cell_type": "code",
   "execution_count": null,
   "id": "31d3fd8e-ff8f-4ccc-b024-d23fd60ba39b",
   "metadata": {},
   "outputs": [],
   "source": [
    "import pandas as pd\n",
    "df = pd.read_csv('./data/form13.csv')"
   ]
  },
  {
   "cell_type": "code",
   "execution_count": null,
   "id": "cedd641e-38db-4fbd-b2b1-c06838eca45c",
   "metadata": {},
   "outputs": [],
   "source": [
    "df"
   ]
  },
  {
   "cell_type": "code",
   "execution_count": null,
   "id": "1b597a66-4f06-4460-8cca-5444d956720a",
   "metadata": {},
   "outputs": [],
   "source": [
    "df_sub = df[df.sourceFilingId.str.contains('2023-05-11')]\n",
    "df_sub"
   ]
  },
  {
   "cell_type": "code",
   "execution_count": null,
   "id": "5f26beff-80e7-4388-9710-b3bc05b1fdc0",
   "metadata": {},
   "outputs": [],
   "source": [
    "df_sub[['managerName', 'cusip']].groupby('managerName').count()"
   ]
  },
  {
   "cell_type": "code",
   "execution_count": null,
   "id": "ab9c3f42-0d57-4fac-91f0-af86920f0e62",
   "metadata": {},
   "outputs": [],
   "source": [
    "import numpy as np\n",
    "\n",
    "must_have=['Smithfield Trust Co']\n",
    "sample_size=30\n",
    "manager_names = df_sub.managerName.unique()"
   ]
  },
  {
   "cell_type": "code",
   "execution_count": null,
   "metadata": {
    "collapsed": false
   },
   "outputs": [],
   "source": [
    "random_size = sample_size - len(must_have)\n",
    "np.random.seed(0)\n",
    "sampled_managers =np.concatenate((must_have, np.random.choice(manager_names, random_size)))\n",
    "sampled_managers"
   ]
  },
  {
   "cell_type": "code",
   "execution_count": null,
   "id": "c2efc73f-3fd1-4283-9062-b0404ad4be13",
   "metadata": {},
   "outputs": [],
   "source": [
    "random_size = sample_size - len(must_have)\n",
    "np.random.seed(0)\n",
    "sampled_managers =np.concatenate((must_have, np.random.choice(manager_names, random_size)))\n",
    "sampled_managers"
   ]
  },
  {
   "cell_type": "code",
   "execution_count": null,
   "id": "18607ebf-7206-4321-8f75-b1169cef8923",
   "metadata": {},
   "outputs": [],
   "source": [
    "df_sample = df_sub[df_sub.managerName.isin(sampled_managers)]\n",
    "df_sample"
   ]
  },
  {
   "cell_type": "code",
   "execution_count": null,
   "id": "44d1994c-2f30-4c00-81b8-3e72eaf8b1a4",
   "metadata": {},
   "outputs": [],
   "source": [
    "df_sample.to_csv('./data/form13-2023-05-11.csv', index=False)"
   ]
  }
 ],
 "metadata": {
  "environment": {
   "kernel": "python3",
   "name": "pytorch-gpu.1-13.m108",
   "type": "gcloud",
   "uri": "gcr.io/deeplearning-platform-release/pytorch-gpu.1-13:m108"
  },
  "kernelspec": {
   "display_name": "Python 3",
   "language": "python",
   "name": "python3"
  },
  "language_info": {
   "codemirror_mode": {
    "name": "ipython",
    "version": 3
   },
   "file_extension": ".py",
   "mimetype": "text/x-python",
   "name": "python",
   "nbconvert_exporter": "python",
   "pygments_lexer": "ipython3",
   "version": "3.10.10"
  }
 },
 "nbformat": 4,
 "nbformat_minor": 5
}
