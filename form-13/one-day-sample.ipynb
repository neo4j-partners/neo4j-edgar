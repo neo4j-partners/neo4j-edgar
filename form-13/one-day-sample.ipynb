{
 "cells": [
  {
   "cell_type": "markdown",
   "id": "8b7a1dc1-0cae-42a7-b059-9efe53e7a44f",
   "metadata": {},
   "source": [
    "# Create One Day Sample"
   ]
  },
  {
   "cell_type": "code",
   "execution_count": 1,
   "id": "31d3fd8e-ff8f-4ccc-b024-d23fd60ba39b",
   "metadata": {},
   "outputs": [],
   "source": [
    "import pandas as pd\n",
    "df = pd.read_csv('./data/form13.csv')"
   ]
  },
  {
   "cell_type": "code",
   "execution_count": 2,
   "id": "cedd641e-38db-4fbd-b2b1-c06838eca45c",
   "metadata": {},
   "outputs": [
    {
     "data": {
      "text/plain": "                 managerName reportCalendarOrQuarter      cusip         value  \\\n0          1060 Capital, LLC              2022-09-30  609027107  1.501700e+07   \n1          1060 Capital, LLC              2022-12-31  343412102  5.199000e+09   \n2          1060 Capital, LLC              2022-12-31  34354P105  4.908800e+09   \n3          1060 Capital, LLC              2022-12-31  359678109  4.477664e+09   \n4          1060 Capital, LLC              2022-12-31  517834107  7.210500e+09   \n...                      ...                     ...        ...           ...   \n1600317  venBio Partners LLC              2023-03-31  28623U101  3.546044e+09   \n1600318  venBio Partners LLC              2023-03-31  413197104  3.380568e+10   \n1600319  venBio Partners LLC              2023-03-31  45258K109  3.863707e+09   \n1600320  venBio Partners LLC              2023-03-31  92332V107  7.701091e+10   \n1600321  venBio Partners LLC              2023-03-31  N69605108  1.835392e+10   \n\n          shares                                     sourceFilingId  \\\n0         267500  raw_2022-11-14_archives_edgar_data_1602119_000...   \n1         150000  raw_2023-02-14_archives_edgar_data_1602119_000...   \n2         160000  raw_2023-02-14_archives_edgar_data_1602119_000...   \n3         595434  raw_2023-02-14_archives_edgar_data_1602119_000...   \n4         150000  raw_2023-02-14_archives_edgar_data_1602119_000...   \n...          ...                                                ...   \n1600317  1866339  raw_2023-05-15_archives_edgar_data_1776382_000...   \n1600318  1035396  raw_2023-05-15_archives_edgar_data_1776382_000...   \n1600319  2759791  raw_2023-05-15_archives_edgar_data_1776382_000...   \n1600320  2298833  raw_2023-05-15_archives_edgar_data_1776382_000...   \n1600321  2278575  raw_2023-05-15_archives_edgar_data_1776382_000...   \n\n                          companyName  \n0         MONARCH CASINO & RESORT INC  \n1                      FLUOR CORP NEW  \n2                      FLOWSERVE CORP  \n3                FULL HSE RESORTS INC  \n4                LAS VEGAS SANDS CORP  \n...                               ...  \n1600317        ELEVATION ONCOLOGY INC  \n1600318  HARMONY BIOSCIENCES HLDGS IN  \n1600319     IMPEL PHARMACEUTICALS INC  \n1600320        VENTYX BIOSCIENCES INC  \n1600321                 PHARVARIS N V  \n\n[1600322 rows x 7 columns]",
      "text/html": "<div>\n<style scoped>\n    .dataframe tbody tr th:only-of-type {\n        vertical-align: middle;\n    }\n\n    .dataframe tbody tr th {\n        vertical-align: top;\n    }\n\n    .dataframe thead th {\n        text-align: right;\n    }\n</style>\n<table border=\"1\" class=\"dataframe\">\n  <thead>\n    <tr style=\"text-align: right;\">\n      <th></th>\n      <th>managerName</th>\n      <th>reportCalendarOrQuarter</th>\n      <th>cusip</th>\n      <th>value</th>\n      <th>shares</th>\n      <th>sourceFilingId</th>\n      <th>companyName</th>\n    </tr>\n  </thead>\n  <tbody>\n    <tr>\n      <th>0</th>\n      <td>1060 Capital, LLC</td>\n      <td>2022-09-30</td>\n      <td>609027107</td>\n      <td>1.501700e+07</td>\n      <td>267500</td>\n      <td>raw_2022-11-14_archives_edgar_data_1602119_000...</td>\n      <td>MONARCH CASINO &amp; RESORT INC</td>\n    </tr>\n    <tr>\n      <th>1</th>\n      <td>1060 Capital, LLC</td>\n      <td>2022-12-31</td>\n      <td>343412102</td>\n      <td>5.199000e+09</td>\n      <td>150000</td>\n      <td>raw_2023-02-14_archives_edgar_data_1602119_000...</td>\n      <td>FLUOR CORP NEW</td>\n    </tr>\n    <tr>\n      <th>2</th>\n      <td>1060 Capital, LLC</td>\n      <td>2022-12-31</td>\n      <td>34354P105</td>\n      <td>4.908800e+09</td>\n      <td>160000</td>\n      <td>raw_2023-02-14_archives_edgar_data_1602119_000...</td>\n      <td>FLOWSERVE CORP</td>\n    </tr>\n    <tr>\n      <th>3</th>\n      <td>1060 Capital, LLC</td>\n      <td>2022-12-31</td>\n      <td>359678109</td>\n      <td>4.477664e+09</td>\n      <td>595434</td>\n      <td>raw_2023-02-14_archives_edgar_data_1602119_000...</td>\n      <td>FULL HSE RESORTS INC</td>\n    </tr>\n    <tr>\n      <th>4</th>\n      <td>1060 Capital, LLC</td>\n      <td>2022-12-31</td>\n      <td>517834107</td>\n      <td>7.210500e+09</td>\n      <td>150000</td>\n      <td>raw_2023-02-14_archives_edgar_data_1602119_000...</td>\n      <td>LAS VEGAS SANDS CORP</td>\n    </tr>\n    <tr>\n      <th>...</th>\n      <td>...</td>\n      <td>...</td>\n      <td>...</td>\n      <td>...</td>\n      <td>...</td>\n      <td>...</td>\n      <td>...</td>\n    </tr>\n    <tr>\n      <th>1600317</th>\n      <td>venBio Partners LLC</td>\n      <td>2023-03-31</td>\n      <td>28623U101</td>\n      <td>3.546044e+09</td>\n      <td>1866339</td>\n      <td>raw_2023-05-15_archives_edgar_data_1776382_000...</td>\n      <td>ELEVATION ONCOLOGY INC</td>\n    </tr>\n    <tr>\n      <th>1600318</th>\n      <td>venBio Partners LLC</td>\n      <td>2023-03-31</td>\n      <td>413197104</td>\n      <td>3.380568e+10</td>\n      <td>1035396</td>\n      <td>raw_2023-05-15_archives_edgar_data_1776382_000...</td>\n      <td>HARMONY BIOSCIENCES HLDGS IN</td>\n    </tr>\n    <tr>\n      <th>1600319</th>\n      <td>venBio Partners LLC</td>\n      <td>2023-03-31</td>\n      <td>45258K109</td>\n      <td>3.863707e+09</td>\n      <td>2759791</td>\n      <td>raw_2023-05-15_archives_edgar_data_1776382_000...</td>\n      <td>IMPEL PHARMACEUTICALS INC</td>\n    </tr>\n    <tr>\n      <th>1600320</th>\n      <td>venBio Partners LLC</td>\n      <td>2023-03-31</td>\n      <td>92332V107</td>\n      <td>7.701091e+10</td>\n      <td>2298833</td>\n      <td>raw_2023-05-15_archives_edgar_data_1776382_000...</td>\n      <td>VENTYX BIOSCIENCES INC</td>\n    </tr>\n    <tr>\n      <th>1600321</th>\n      <td>venBio Partners LLC</td>\n      <td>2023-03-31</td>\n      <td>N69605108</td>\n      <td>1.835392e+10</td>\n      <td>2278575</td>\n      <td>raw_2023-05-15_archives_edgar_data_1776382_000...</td>\n      <td>PHARVARIS N V</td>\n    </tr>\n  </tbody>\n</table>\n<p>1600322 rows × 7 columns</p>\n</div>"
     },
     "execution_count": 2,
     "metadata": {},
     "output_type": "execute_result"
    }
   ],
   "source": [
    "df"
   ]
  },
  {
   "cell_type": "code",
   "execution_count": 3,
   "id": "1b597a66-4f06-4460-8cca-5444d956720a",
   "metadata": {},
   "outputs": [
    {
     "data": {
      "text/plain": "                 managerName reportCalendarOrQuarter      cusip         value  \\\n3460              2Xideas AG              2023-03-31  00846U101  9.787832e+09   \n3461              2Xideas AG              2023-03-31  016255101  1.689913e+10   \n3462              2Xideas AG              2023-03-31  025816109  1.187673e+10   \n3463              2Xideas AG              2023-03-31  032654105  2.674757e+10   \n3464              2Xideas AG              2023-03-31  03662Q105  6.892554e+10   \n...                      ...                     ...        ...           ...   \n1591832  Zhang Financial LLC              2023-03-31  92556V106  1.696890e+08   \n1591833  Zhang Financial LLC              2023-03-31  931142103  3.875670e+08   \n1591834  Zhang Financial LLC              2023-03-31  963320106  2.640400e+08   \n1591835  Zhang Financial LLC              2023-03-31  981811102  3.232500e+08   \n1591836  Zhang Financial LLC              2023-03-31  G88912103  3.052100e+07   \n\n         shares                                     sourceFilingId  \\\n3460      70752  raw_2023-05-11_archives_edgar_data_1843587_000...   \n3461      50575  raw_2023-05-11_archives_edgar_data_1843587_000...   \n3462      72002  raw_2023-05-11_archives_edgar_data_1843587_000...   \n3463     135623  raw_2023-05-11_archives_edgar_data_1843587_000...   \n3464     207108  raw_2023-05-11_archives_edgar_data_1843587_000...   \n...         ...                                                ...   \n1591832   17639  raw_2023-05-11_archives_edgar_data_1776290_000...   \n1591833    2628  raw_2023-05-11_archives_edgar_data_1776290_000...   \n1591834    2000  raw_2023-05-11_archives_edgar_data_1776290_000...   \n1591835    5000  raw_2023-05-11_archives_edgar_data_1776290_000...   \n1591836   27960  raw_2023-05-11_archives_edgar_data_1776290_000...   \n\n                      companyName  \n3460     AGILENT TECHNOLOGIES INC  \n3461         ALIGN TECHNOLOGY INC  \n3462          AMERICAN EXPRESS CO  \n3463           ANALOG DEVICES INC  \n3464                    ANSYS INC  \n...                           ...  \n1591832               VIATRIS INC  \n1591833               WALMART INC  \n1591834            WHIRLPOOL CORP  \n1591835    WORTHINGTON INDUSTRIES  \n1591836              TIZIANA LIFE  \n\n[48072 rows x 7 columns]",
      "text/html": "<div>\n<style scoped>\n    .dataframe tbody tr th:only-of-type {\n        vertical-align: middle;\n    }\n\n    .dataframe tbody tr th {\n        vertical-align: top;\n    }\n\n    .dataframe thead th {\n        text-align: right;\n    }\n</style>\n<table border=\"1\" class=\"dataframe\">\n  <thead>\n    <tr style=\"text-align: right;\">\n      <th></th>\n      <th>managerName</th>\n      <th>reportCalendarOrQuarter</th>\n      <th>cusip</th>\n      <th>value</th>\n      <th>shares</th>\n      <th>sourceFilingId</th>\n      <th>companyName</th>\n    </tr>\n  </thead>\n  <tbody>\n    <tr>\n      <th>3460</th>\n      <td>2Xideas AG</td>\n      <td>2023-03-31</td>\n      <td>00846U101</td>\n      <td>9.787832e+09</td>\n      <td>70752</td>\n      <td>raw_2023-05-11_archives_edgar_data_1843587_000...</td>\n      <td>AGILENT TECHNOLOGIES INC</td>\n    </tr>\n    <tr>\n      <th>3461</th>\n      <td>2Xideas AG</td>\n      <td>2023-03-31</td>\n      <td>016255101</td>\n      <td>1.689913e+10</td>\n      <td>50575</td>\n      <td>raw_2023-05-11_archives_edgar_data_1843587_000...</td>\n      <td>ALIGN TECHNOLOGY INC</td>\n    </tr>\n    <tr>\n      <th>3462</th>\n      <td>2Xideas AG</td>\n      <td>2023-03-31</td>\n      <td>025816109</td>\n      <td>1.187673e+10</td>\n      <td>72002</td>\n      <td>raw_2023-05-11_archives_edgar_data_1843587_000...</td>\n      <td>AMERICAN EXPRESS CO</td>\n    </tr>\n    <tr>\n      <th>3463</th>\n      <td>2Xideas AG</td>\n      <td>2023-03-31</td>\n      <td>032654105</td>\n      <td>2.674757e+10</td>\n      <td>135623</td>\n      <td>raw_2023-05-11_archives_edgar_data_1843587_000...</td>\n      <td>ANALOG DEVICES INC</td>\n    </tr>\n    <tr>\n      <th>3464</th>\n      <td>2Xideas AG</td>\n      <td>2023-03-31</td>\n      <td>03662Q105</td>\n      <td>6.892554e+10</td>\n      <td>207108</td>\n      <td>raw_2023-05-11_archives_edgar_data_1843587_000...</td>\n      <td>ANSYS INC</td>\n    </tr>\n    <tr>\n      <th>...</th>\n      <td>...</td>\n      <td>...</td>\n      <td>...</td>\n      <td>...</td>\n      <td>...</td>\n      <td>...</td>\n      <td>...</td>\n    </tr>\n    <tr>\n      <th>1591832</th>\n      <td>Zhang Financial LLC</td>\n      <td>2023-03-31</td>\n      <td>92556V106</td>\n      <td>1.696890e+08</td>\n      <td>17639</td>\n      <td>raw_2023-05-11_archives_edgar_data_1776290_000...</td>\n      <td>VIATRIS INC</td>\n    </tr>\n    <tr>\n      <th>1591833</th>\n      <td>Zhang Financial LLC</td>\n      <td>2023-03-31</td>\n      <td>931142103</td>\n      <td>3.875670e+08</td>\n      <td>2628</td>\n      <td>raw_2023-05-11_archives_edgar_data_1776290_000...</td>\n      <td>WALMART INC</td>\n    </tr>\n    <tr>\n      <th>1591834</th>\n      <td>Zhang Financial LLC</td>\n      <td>2023-03-31</td>\n      <td>963320106</td>\n      <td>2.640400e+08</td>\n      <td>2000</td>\n      <td>raw_2023-05-11_archives_edgar_data_1776290_000...</td>\n      <td>WHIRLPOOL CORP</td>\n    </tr>\n    <tr>\n      <th>1591835</th>\n      <td>Zhang Financial LLC</td>\n      <td>2023-03-31</td>\n      <td>981811102</td>\n      <td>3.232500e+08</td>\n      <td>5000</td>\n      <td>raw_2023-05-11_archives_edgar_data_1776290_000...</td>\n      <td>WORTHINGTON INDUSTRIES</td>\n    </tr>\n    <tr>\n      <th>1591836</th>\n      <td>Zhang Financial LLC</td>\n      <td>2023-03-31</td>\n      <td>G88912103</td>\n      <td>3.052100e+07</td>\n      <td>27960</td>\n      <td>raw_2023-05-11_archives_edgar_data_1776290_000...</td>\n      <td>TIZIANA LIFE</td>\n    </tr>\n  </tbody>\n</table>\n<p>48072 rows × 7 columns</p>\n</div>"
     },
     "execution_count": 3,
     "metadata": {},
     "output_type": "execute_result"
    }
   ],
   "source": [
    "df_sub = df[df.sourceFilingId.str.contains('2023-05-11')]\n",
    "df_sub"
   ]
  },
  {
   "cell_type": "code",
   "execution_count": 4,
   "id": "5f26beff-80e7-4388-9710-b3bc05b1fdc0",
   "metadata": {},
   "outputs": [
    {
     "data": {
      "text/plain": "                                                    cusip\nmanagerName                                              \n2Xideas AG                                             43\nABSOLUTE CAPITAL MANAGEMENT, LLC                        8\nACADIAN ASSET MANAGEMENT LLC                          204\nAMERICAN ASSET MANAGEMENT INC.                          4\nAMERICAN CENTURY COMPANIES INC                       1750\n...                                                   ...\nWorthPointe, LLC                                        6\nY.D. More Investments Ltd                             134\nYahav Achim Ve Achayot - Provident Funds Manage...     10\nZEVENBERGEN CAPITAL INVESTMENTS LLC                    99\nZhang Financial LLC                                   103\n\n[321 rows x 1 columns]",
      "text/html": "<div>\n<style scoped>\n    .dataframe tbody tr th:only-of-type {\n        vertical-align: middle;\n    }\n\n    .dataframe tbody tr th {\n        vertical-align: top;\n    }\n\n    .dataframe thead th {\n        text-align: right;\n    }\n</style>\n<table border=\"1\" class=\"dataframe\">\n  <thead>\n    <tr style=\"text-align: right;\">\n      <th></th>\n      <th>cusip</th>\n    </tr>\n    <tr>\n      <th>managerName</th>\n      <th></th>\n    </tr>\n  </thead>\n  <tbody>\n    <tr>\n      <th>2Xideas AG</th>\n      <td>43</td>\n    </tr>\n    <tr>\n      <th>ABSOLUTE CAPITAL MANAGEMENT, LLC</th>\n      <td>8</td>\n    </tr>\n    <tr>\n      <th>ACADIAN ASSET MANAGEMENT LLC</th>\n      <td>204</td>\n    </tr>\n    <tr>\n      <th>AMERICAN ASSET MANAGEMENT INC.</th>\n      <td>4</td>\n    </tr>\n    <tr>\n      <th>AMERICAN CENTURY COMPANIES INC</th>\n      <td>1750</td>\n    </tr>\n    <tr>\n      <th>...</th>\n      <td>...</td>\n    </tr>\n    <tr>\n      <th>WorthPointe, LLC</th>\n      <td>6</td>\n    </tr>\n    <tr>\n      <th>Y.D. More Investments Ltd</th>\n      <td>134</td>\n    </tr>\n    <tr>\n      <th>Yahav Achim Ve Achayot - Provident Funds Management Co Ltd.</th>\n      <td>10</td>\n    </tr>\n    <tr>\n      <th>ZEVENBERGEN CAPITAL INVESTMENTS LLC</th>\n      <td>99</td>\n    </tr>\n    <tr>\n      <th>Zhang Financial LLC</th>\n      <td>103</td>\n    </tr>\n  </tbody>\n</table>\n<p>321 rows × 1 columns</p>\n</div>"
     },
     "execution_count": 4,
     "metadata": {},
     "output_type": "execute_result"
    }
   ],
   "source": [
    "df_sub[['managerName', 'cusip']].groupby('managerName').count()"
   ]
  },
  {
   "cell_type": "code",
   "execution_count": 5,
   "id": "ab9c3f42-0d57-4fac-91f0-af86920f0e62",
   "metadata": {},
   "outputs": [],
   "source": [
    "import numpy as np\n",
    "\n",
    "must_have=['Smithfield Trust Co']\n",
    "sample_size=30\n",
    "manager_names = df_sub.managerName.unique()"
   ]
  },
  {
   "cell_type": "code",
   "execution_count": 6,
   "outputs": [
    {
     "data": {
      "text/plain": "array(['Smithfield Trust Co', 'M&T Bank Corp', 'CDAM (UK) Ltd',\n       'GUGGENHEIM CAPITAL LLC', 'NATIXIS ADVISORS, L.P.',\n       'SCOTIA CAPITAL INC.', 'NOMURA ASSET MANAGEMENT CO LTD',\n       'Ackerman Capital Advisors, LLC',\n       'PARADIGM ASSET MANAGEMENT CO LLC',\n       'TEXAS CAPITAL BANK WEALTH MANAGEMENT SERVICES INC',\n       'Regal Investment Advisors LLC', 'Towercrest Capital Management',\n       'ENVESTNET ASSET MANAGEMENT INC',\n       'Contrarius Investment Management Ltd', 'EPIQ Capital Group, LLC',\n       'Westwood Global Investments, LLC', 'NBW CAPITAL LLC',\n       'Blue Owl Capital Holdings LP', 'ENVESTNET ASSET MANAGEMENT INC',\n       'MARCO INVESTMENT MANAGEMENT LLC', 'EPIQ Capital Group, LLC',\n       'Legacy Capital Group California, Inc.', 'BANK OZK',\n       'Cornerstone Management, Inc.',\n       'Second Half Financial Partners, LLC',\n       'GOLDENTREE ASSET MANAGEMENT LP',\n       'Ritter Daniher Financial Advisory LLC / DE', 'NYL Investors LLC',\n       'FORTE CAPITAL LLC /ADV', 'MEITAV INVESTMENT HOUSE LTD'],\n      dtype=object)"
     },
     "execution_count": 6,
     "metadata": {},
     "output_type": "execute_result"
    }
   ],
   "source": [
    "random_size = sample_size - len(must_have)\n",
    "np.random.seed(0)\n",
    "sampled_managers =np.concatenate((must_have, np.random.choice(manager_names, random_size)))\n",
    "sampled_managers"
   ],
   "metadata": {
    "collapsed": false
   }
  },
  {
   "cell_type": "code",
   "execution_count": 19,
   "id": "c2efc73f-3fd1-4283-9062-b0404ad4be13",
   "metadata": {},
   "outputs": [
    {
     "data": {
      "text/plain": [
       "array(['Smithfield Trust Co', 'M&T Bank Corp', 'CDAM (UK) Ltd',\n",
       "       'GUGGENHEIM CAPITAL LLC', 'NATIXIS ADVISORS, L.P.',\n",
       "       'SCOTIA CAPITAL INC.', 'NOMURA ASSET MANAGEMENT CO LTD',\n",
       "       'Ackerman Capital Advisors, LLC',\n",
       "       'PARADIGM ASSET MANAGEMENT CO LLC',\n",
       "       'TEXAS CAPITAL BANK WEALTH MANAGEMENT SERVICES INC',\n",
       "       'Regal Investment Advisors LLC', 'Towercrest Capital Management',\n",
       "       'ENVESTNET ASSET MANAGEMENT INC',\n",
       "       'Contrarius Investment Management Ltd', 'EPIQ Capital Group, LLC',\n",
       "       'Westwood Global Investments, LLC', 'NBW CAPITAL LLC',\n",
       "       'Blue Owl Capital Holdings LP', 'ENVESTNET ASSET MANAGEMENT INC',\n",
       "       'MARCO INVESTMENT MANAGEMENT LLC', 'EPIQ Capital Group, LLC',\n",
       "       'Legacy Capital Group California, Inc.', 'BANK OZK',\n",
       "       'Cornerstone Management, Inc.',\n",
       "       'Second Half Financial Partners, LLC',\n",
       "       'GOLDENTREE ASSET MANAGEMENT LP',\n",
       "       'Ritter Daniher Financial Advisory LLC / DE', 'NYL Investors LLC',\n",
       "       'FORTE CAPITAL LLC /ADV', 'MEITAV INVESTMENT HOUSE LTD'],\n",
       "      dtype=object)"
      ]
     },
     "execution_count": 19,
     "metadata": {},
     "output_type": "execute_result"
    }
   ],
   "source": [
    "random_size = sample_size - len(must_have)\n",
    "np.random.seed(0)\n",
    "sampled_managers =np.concatenate((must_have, np.random.choice(manager_names, random_size)))\n",
    "sampled_managers"
   ]
  },
  {
   "cell_type": "code",
   "execution_count": 7,
   "id": "18607ebf-7206-4321-8f75-b1169cef8923",
   "metadata": {},
   "outputs": [
    {
     "data": {
      "text/plain": "                              managerName reportCalendarOrQuarter      cusip  \\\n81358      Ackerman Capital Advisors, LLC              2023-03-31  002824100   \n81359      Ackerman Capital Advisors, LLC              2023-03-31  02376R102   \n81360      Ackerman Capital Advisors, LLC              2023-03-31  037833100   \n81361      Ackerman Capital Advisors, LLC              2023-03-31  05589T104   \n81362      Ackerman Capital Advisors, LLC              2023-03-31  09247D105   \n...                                   ...                     ...        ...   \n1439769     Towercrest Capital Management              2023-03-31  742718109   \n1439770     Towercrest Capital Management              2023-03-31  744573106   \n1439771     Towercrest Capital Management              2023-03-31  92343V104   \n1573839  Westwood Global Investments, LLC              2023-03-31  G2519Y108   \n1573840  Westwood Global Investments, LLC              2023-03-31  L00849106   \n\n                value   shares  \\\n81358    4.659990e+08     4602   \n81359    2.170020e+08    14712   \n81360    8.923200e+08     5411   \n81361    1.839140e+08    28338   \n81362    1.270669e+09   105275   \n...               ...      ...   \n1439769  3.036250e+08     2042   \n1439770  2.280670e+08     3652   \n1439771  2.464490e+08     6337   \n1573839  2.173752e+11  1641931   \n1573840  1.926299e+10  2381086   \n\n                                            sourceFilingId  \\\n81358    raw_2023-05-11_archives_edgar_data_1699506_000...   \n81359    raw_2023-05-11_archives_edgar_data_1699506_000...   \n81360    raw_2023-05-11_archives_edgar_data_1699506_000...   \n81361    raw_2023-05-11_archives_edgar_data_1699506_000...   \n81362    raw_2023-05-11_archives_edgar_data_1699506_000...   \n...                                                    ...   \n1439769  raw_2023-05-11_archives_edgar_data_1633288_000...   \n1439770  raw_2023-05-11_archives_edgar_data_1633288_000...   \n1439771  raw_2023-05-11_archives_edgar_data_1633288_000...   \n1573839  raw_2023-05-11_archives_edgar_data_1356513_000...   \n1573840  raw_2023-05-11_archives_edgar_data_1356513_000...   \n\n                          companyName  \n81358                     ABBOTT LABS  \n81359        AMERICAN AIRLS GROUP INC  \n81360                       APPLE INC  \n81361       BNY MELLON MUN INCOME INC  \n81362    BLACKROCK INVT QUALITY MUN T  \n...                               ...  \n1439769         PROCTER AND GAMBLE CO  \n1439770  PUBLIC SVC ENTERPRISE GRP IN  \n1439771    VERIZON COMMUNICATIONS INC  \n1573839                 Credicorp Ltd  \n1573840                 Adecoagro S A  \n\n[7381 rows x 7 columns]",
      "text/html": "<div>\n<style scoped>\n    .dataframe tbody tr th:only-of-type {\n        vertical-align: middle;\n    }\n\n    .dataframe tbody tr th {\n        vertical-align: top;\n    }\n\n    .dataframe thead th {\n        text-align: right;\n    }\n</style>\n<table border=\"1\" class=\"dataframe\">\n  <thead>\n    <tr style=\"text-align: right;\">\n      <th></th>\n      <th>managerName</th>\n      <th>reportCalendarOrQuarter</th>\n      <th>cusip</th>\n      <th>value</th>\n      <th>shares</th>\n      <th>sourceFilingId</th>\n      <th>companyName</th>\n    </tr>\n  </thead>\n  <tbody>\n    <tr>\n      <th>81358</th>\n      <td>Ackerman Capital Advisors, LLC</td>\n      <td>2023-03-31</td>\n      <td>002824100</td>\n      <td>4.659990e+08</td>\n      <td>4602</td>\n      <td>raw_2023-05-11_archives_edgar_data_1699506_000...</td>\n      <td>ABBOTT LABS</td>\n    </tr>\n    <tr>\n      <th>81359</th>\n      <td>Ackerman Capital Advisors, LLC</td>\n      <td>2023-03-31</td>\n      <td>02376R102</td>\n      <td>2.170020e+08</td>\n      <td>14712</td>\n      <td>raw_2023-05-11_archives_edgar_data_1699506_000...</td>\n      <td>AMERICAN AIRLS GROUP INC</td>\n    </tr>\n    <tr>\n      <th>81360</th>\n      <td>Ackerman Capital Advisors, LLC</td>\n      <td>2023-03-31</td>\n      <td>037833100</td>\n      <td>8.923200e+08</td>\n      <td>5411</td>\n      <td>raw_2023-05-11_archives_edgar_data_1699506_000...</td>\n      <td>APPLE INC</td>\n    </tr>\n    <tr>\n      <th>81361</th>\n      <td>Ackerman Capital Advisors, LLC</td>\n      <td>2023-03-31</td>\n      <td>05589T104</td>\n      <td>1.839140e+08</td>\n      <td>28338</td>\n      <td>raw_2023-05-11_archives_edgar_data_1699506_000...</td>\n      <td>BNY MELLON MUN INCOME INC</td>\n    </tr>\n    <tr>\n      <th>81362</th>\n      <td>Ackerman Capital Advisors, LLC</td>\n      <td>2023-03-31</td>\n      <td>09247D105</td>\n      <td>1.270669e+09</td>\n      <td>105275</td>\n      <td>raw_2023-05-11_archives_edgar_data_1699506_000...</td>\n      <td>BLACKROCK INVT QUALITY MUN T</td>\n    </tr>\n    <tr>\n      <th>...</th>\n      <td>...</td>\n      <td>...</td>\n      <td>...</td>\n      <td>...</td>\n      <td>...</td>\n      <td>...</td>\n      <td>...</td>\n    </tr>\n    <tr>\n      <th>1439769</th>\n      <td>Towercrest Capital Management</td>\n      <td>2023-03-31</td>\n      <td>742718109</td>\n      <td>3.036250e+08</td>\n      <td>2042</td>\n      <td>raw_2023-05-11_archives_edgar_data_1633288_000...</td>\n      <td>PROCTER AND GAMBLE CO</td>\n    </tr>\n    <tr>\n      <th>1439770</th>\n      <td>Towercrest Capital Management</td>\n      <td>2023-03-31</td>\n      <td>744573106</td>\n      <td>2.280670e+08</td>\n      <td>3652</td>\n      <td>raw_2023-05-11_archives_edgar_data_1633288_000...</td>\n      <td>PUBLIC SVC ENTERPRISE GRP IN</td>\n    </tr>\n    <tr>\n      <th>1439771</th>\n      <td>Towercrest Capital Management</td>\n      <td>2023-03-31</td>\n      <td>92343V104</td>\n      <td>2.464490e+08</td>\n      <td>6337</td>\n      <td>raw_2023-05-11_archives_edgar_data_1633288_000...</td>\n      <td>VERIZON COMMUNICATIONS INC</td>\n    </tr>\n    <tr>\n      <th>1573839</th>\n      <td>Westwood Global Investments, LLC</td>\n      <td>2023-03-31</td>\n      <td>G2519Y108</td>\n      <td>2.173752e+11</td>\n      <td>1641931</td>\n      <td>raw_2023-05-11_archives_edgar_data_1356513_000...</td>\n      <td>Credicorp Ltd</td>\n    </tr>\n    <tr>\n      <th>1573840</th>\n      <td>Westwood Global Investments, LLC</td>\n      <td>2023-03-31</td>\n      <td>L00849106</td>\n      <td>1.926299e+10</td>\n      <td>2381086</td>\n      <td>raw_2023-05-11_archives_edgar_data_1356513_000...</td>\n      <td>Adecoagro S A</td>\n    </tr>\n  </tbody>\n</table>\n<p>7381 rows × 7 columns</p>\n</div>"
     },
     "execution_count": 7,
     "metadata": {},
     "output_type": "execute_result"
    }
   ],
   "source": [
    "df_sample = df_sub[df_sub.managerName.isin(sampled_managers)]\n",
    "df_sample"
   ]
  },
  {
   "cell_type": "code",
   "execution_count": 8,
   "id": "44d1994c-2f30-4c00-81b8-3e72eaf8b1a4",
   "metadata": {},
   "outputs": [],
   "source": [
    "df_sample.to_csv('./data/form13-2023-05-11.csv', index=False)"
   ]
  },
  {
   "cell_type": "code",
   "execution_count": null,
   "outputs": [],
   "source": [],
   "metadata": {
    "collapsed": false
   }
  }
 ],
 "metadata": {
  "environment": {
   "kernel": "python3",
   "name": "pytorch-gpu.1-13.m108",
   "type": "gcloud",
   "uri": "gcr.io/deeplearning-platform-release/pytorch-gpu.1-13:m108"
  },
  "kernelspec": {
   "display_name": "Python 3",
   "language": "python",
   "name": "python3"
  },
  "language_info": {
   "codemirror_mode": {
    "name": "ipython",
    "version": 3
   },
   "file_extension": ".py",
   "mimetype": "text/x-python",
   "name": "python",
   "nbconvert_exporter": "python",
   "pygments_lexer": "ipython3",
   "version": "3.10.10"
  }
 },
 "nbformat": 4,
 "nbformat_minor": 5
}
